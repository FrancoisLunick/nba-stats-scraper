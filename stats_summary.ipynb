{
 "cells": [
  {
   "cell_type": "code",
   "execution_count": null,
   "id": "635a426c",
   "metadata": {},
   "outputs": [],
   "source": [
    "!pip3 install pandas matplotlib seaborn"
   ]
  },
  {
   "cell_type": "code",
   "execution_count": null,
   "id": "5bd79f3a",
   "metadata": {},
   "outputs": [],
   "source": [
    "# Import the Libraries\n",
    "import pandas\n",
    "import matplotlib.pyplot\n",
    "import seaborn"
   ]
  },
  {
   "cell_type": "code",
   "execution_count": null,
   "id": "ebefefa6",
   "metadata": {},
   "outputs": [],
   "source": [
    "# Set the style up for visualizations\n",
    "seaborn.set_theme(style='whitegrid')"
   ]
  },
  {
   "cell_type": "code",
   "execution_count": null,
   "id": "7f703113",
   "metadata": {},
   "outputs": [],
   "source": [
    "# Load the csv file\n",
    "data = pandas.read_csv(\"data/2025_player_stats.csv\")\n",
    "\n",
    "# Drop the rows with the missing values\n",
    "data = data.dropna(thresh=10)\n",
    "\n",
    "# Display the first 10 rows\n",
    "data.head(10)"
   ]
  },
  {
   "cell_type": "code",
   "execution_count": null,
   "id": "d7b2680c",
   "metadata": {},
   "outputs": [],
   "source": [
    "# Summary Stats\n",
    "data.describe()"
   ]
  },
  {
   "cell_type": "code",
   "execution_count": null,
   "id": "8836bad0",
   "metadata": {},
   "outputs": [],
   "source": [
    "# Top Scorers\n",
    "data_sorted = data.sort_values(by='PTS', ascending=False)    \n",
    "top_10_players = data_sorted.head(10)\n",
    "top_10_players = [['Player', 'PTS']]"
   ]
  }
 ],
 "metadata": {
  "kernelspec": {
   "display_name": ".venv",
   "language": "python",
   "name": "python3"
  },
  "language_info": {
   "codemirror_mode": {
    "name": "ipython",
    "version": 3
   },
   "file_extension": ".py",
   "mimetype": "text/x-python",
   "name": "python",
   "nbconvert_exporter": "python",
   "pygments_lexer": "ipython3",
   "version": "3.13.5"
  }
 },
 "nbformat": 4,
 "nbformat_minor": 5
}
